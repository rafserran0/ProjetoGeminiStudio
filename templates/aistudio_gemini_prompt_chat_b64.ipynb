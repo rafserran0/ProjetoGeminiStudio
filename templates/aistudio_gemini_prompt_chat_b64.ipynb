{
  "cells": [
    {
      "cell_type": "markdown",
      "metadata": {
        "id": "view-in-github",
        "colab_type": "text"
      },
      "source": [
        "<a href=\"https://colab.research.google.com/github/rafserran0/ProjetoGeminiStudio/blob/testeCnpj/templates/aistudio_gemini_prompt_chat_b64.ipynb\" target=\"_parent\"><img src=\"https://colab.research.google.com/assets/colab-badge.svg\" alt=\"Open In Colab\"/></a>"
      ]
    },
    {
      "cell_type": "markdown",
      "metadata": {
        "id": "Tce3stUlHN0L"
      },
      "source": [
        "##### Copyright 2023 Google LLC"
      ]
    },
    {
      "cell_type": "code",
      "execution_count": null,
      "metadata": {
        "cellView": "form",
        "id": "tuOe1ymfHZPu"
      },
      "outputs": [],
      "source": [
        "#@title Licensed under the Apache License, Version 2.0 (the \"License\");\n",
        "# you may not use this file except in compliance with the License.\n",
        "# You may obtain a copy of the License at\n",
        "#\n",
        "# https://www.apache.org/licenses/LICENSE-2.0\n",
        "#\n",
        "# Unless required by applicable law or agreed to in writing, software\n",
        "# distributed under the License is distributed on an \"AS IS\" BASIS,\n",
        "# WITHOUT WARRANTIES OR CONDITIONS OF ANY KIND, either express or implied.\n",
        "# See the License for the specific language governing permissions and\n",
        "# limitations under the License."
      ]
    },
    {
      "cell_type": "markdown",
      "metadata": {
        "id": "FKwyTRdwB8aW"
      },
      "source": [
        "## Setup"
      ]
    },
    {
      "cell_type": "markdown",
      "metadata": {
        "id": "rlE8UqxrDIez"
      },
      "source": [
        "### Install & import\n"
      ]
    },
    {
      "cell_type": "code",
      "execution_count": 1,
      "metadata": {
        "id": "cZiU4TKzznh9"
      },
      "outputs": [],
      "source": [
        "!pip install -U -q google-generativeai"
      ]
    },
    {
      "cell_type": "code",
      "execution_count": 2,
      "metadata": {
        "id": "kWIuwKG2_oWE"
      },
      "outputs": [],
      "source": [
        "# import necessary modules.\n",
        "import google.generativeai as genai\n",
        "import json\n",
        "import base64\n",
        "import pathlib\n",
        "import pprint\n",
        "import requests\n",
        "import mimetypes\n",
        "from IPython.display import Markdown\n",
        "from google.colab import userdata"
      ]
    },
    {
      "cell_type": "markdown",
      "metadata": {
        "id": "Fet3lFjdKHEM"
      },
      "source": [
        "## Set the API key"
      ]
    },
    {
      "cell_type": "markdown",
      "metadata": {
        "id": "ZoRWILAtCzBE"
      },
      "source": [
        "Add your API_KEY to the secrets manager in the left pannel \"🔑\"."
      ]
    },
    {
      "cell_type": "code",
      "execution_count": 4,
      "metadata": {
        "id": "_SvYoR3WCeKr"
      },
      "outputs": [],
      "source": [
        "# Configure the client library by providing your API key.\n",
        "genai.configure(api_key=userdata.get('token'))"
      ]
    },
    {
      "cell_type": "markdown",
      "metadata": {
        "id": "weo-o73WDpdm"
      },
      "source": [
        "### Parse the arguments"
      ]
    },
    {
      "cell_type": "code",
      "execution_count": 5,
      "metadata": {
        "id": "uIog-0SyDuIF"
      },
      "outputs": [],
      "source": [
        "model = 'gemini-1.5-pro-latest' # @param {isTemplate: true}\n",
        "contents_b64 = 'W3sicm9sZSI6InVzZXIiLCJwYXJ0cyI6ImZvcm1hcyBkZSBjb25zdWx0YXIgbnVtZXJvcyBkZSBDTlBKcyBlIHJldG9ybmFyIG5vbWUgZSBlbmRlcmXDp28gZGFzIGVtcHJlc2FzIn0seyJyb2xlIjoibW9kZWwiLCJwYXJ0cyI6IiMjIENvbnN1bHRhbmRvIENOUEpzIGUgUmV0b3JuYW5kbyBOb21lIGUgRW5kZXJlw6dvOlxuXG5FeGlzdGVtIGRpdmVyc2FzIG1hbmVpcmFzIGRlIGNvbnN1bHRhciBuw7ptZXJvcyBkZSBDTlBKIGUgb2J0ZXIgaW5mb3JtYcOnw7VlcyBjb21vIG5vbWUgZSBlbmRlcmXDp28gZGFzIGVtcHJlc2FzLiBBcXVpIGVzdMOjbyBhbGd1bWFzIG9ww6fDtWVzLCBjb20gdW0gcGFzc28gYSBwYXNzbyBwYXJhIGNhZGEgdW1hOlxuXG4qKjEuIFJlY2VpdGEgRmVkZXJhbDoqKlxuXG4qICoqUGFzc28gMToqKiBBY2Vzc2UgbyBzaXRlIGRhIFJlY2VpdGEgRmVkZXJhbDogaHR0cHM6Ly93d3cuZ292LmJyL3JlY2VpdGFmZWRlcmFsL3B0LWJyXG4qICoqUGFzc28gMjoqKiBOYXZlZ3VlIGF0w6kgYSBzZcOnw6NvIFwiU2VydmnDp29zXCIgZSBzZWxlY2lvbmUgXCJDTlBKXCIuXG4qICoqUGFzc28gMzoqKiBFc2NvbGhhIGEgb3DDp8OjbyBcIkNvbnN1bHRhIFF1YWRybyBTb2NpZXTDoXJpbyBlIFNpdHVhw6fDo28gQ2FkYXN0cmFsXCIuXG4qICoqUGFzc28gNDoqKiBEaWdpdGUgbyBuw7ptZXJvIGRvIENOUEogcXVlIGRlc2VqYSBjb25zdWx0YXIgZSBjbGlxdWUgZW0gXCJDb25zdWx0YXJcIi5cbiogKipQYXNzbyA1OioqIEFzIGluZm9ybWHDp8O1ZXMgZGEgZW1wcmVzYSwgaW5jbHVpbmRvIG5vbWUgZSBlbmRlcmXDp28sIHNlcsOjbyBleGliaWRhcyBuYSB0ZWxhLlxuXG4qKjIuIFNpbnRlZ3JhIChTaXN0ZW1hIEludGVncmFkbyBkZSBJbmZvcm1hw6fDtWVzIHNvYnJlIE9wZXJhw6fDtWVzIEludGVyZXN0YWR1YWlzIGNvbSBNZXJjYWRvcmlhcyBlIFNlcnZpw6dvcyk6KipcblxuKiAqKlBhc3NvIDE6KiogQWNlc3NlIG8gcG9ydGFsIGRvIFNpbnRlZ3JhIGRvIHNldSBlc3RhZG8uIENhZGEgZXN0YWRvIHBvc3N1aSB1bSBwb3J0YWwgcHLDs3ByaW8uXG4qICoqUGFzc28gMjoqKiBMb2NhbGl6ZSBhIHNlw6fDo28gZGUgXCJDb25zdWx0YSBkZSBFbXByZXNhc1wiIG91IHNpbWlsYXIuXG4qICoqUGFzc28gMzoqKiBJbnNpcmEgbyBuw7ptZXJvIGRvIENOUEogZSByZWFsaXplIGEgYnVzY2EuXG4qICoqUGFzc28gNDoqKiBPIHNpc3RlbWEgZXhpYmlyw6EgaW5mb3JtYcOnw7VlcyBjYWRhc3RyYWlzIGRhIGVtcHJlc2EsIGluY2x1aW5kbyBub21lIGUgZW5kZXJlw6dvLlxuXG4qKjMuIEFQSXMgZGUgQ29uc3VsdGEgZGUgQ05QSjoqKlxuXG4qICoqUGFzc28gMToqKiBFc2NvbGhhIHVtYSBBUEkgZGUgY29uc3VsdGEgZGUgQ05QSiwgY29tbyBhIEFQSSBkYSBSZWNlaXRhV1Mgb3UgZGEgS29uZHV0by5cbiogKipQYXNzbyAyOioqIFJlZ2lzdHJlLXNlIG5hIHBsYXRhZm9ybWEgZSBvYnRlbmhhIHVtYSBjaGF2ZSBkZSBhY2Vzc28uXG4qICoqUGFzc28gMzoqKiBJbnRlZ3JlIGEgQVBJIGFvIHNldSBzaXN0ZW1hIG91IGFwbGljYcOnw6NvLlxuKiAqKlBhc3NvIDQ6KiogVXRpbGl6ZSBhIGNoYXZlIGRlIGFjZXNzbyBwYXJhIHJlYWxpemFyIGNvbnN1bHRhcyBwb3IgQ05QSi5cbiogKipQYXNzbyA1OioqIEEgQVBJIHJldG9ybmFyw6EgZGFkb3MgZGEgZW1wcmVzYSBlbSBmb3JtYXRvIEpTT04gb3UgWE1MLCBpbmNsdWluZG8gbm9tZSBlIGVuZGVyZcOnby4gXG5cbioqNC4gUGxhdGFmb3JtYXMgT25saW5lIGRlIENvbnN1bHRhIGRlIEVtcHJlc2FzOioqXG5cbiogKipQYXNzbyAxOioqIEFjZXNzZSB1bWEgcGxhdGFmb3JtYSBkZSBjb25zdWx0YSBkZSBlbXByZXNhcywgY29tbyBhIEVjb25vZGF0YSwgRW1wcmVzw7RtZXRybyBvdSBzaW1pbGFyLlxuKiAqKlBhc3NvIDI6KiogQ3JpZSB1bWEgY29udGEgb3UgdXRpbGl6ZSB1bSBhY2Vzc28gZGUgdGVzdGUsIHNlIGRpc3BvbsOtdmVsLlxuKiAqKlBhc3NvIDM6KiogSW5zaXJhIG8gbsO6bWVybyBkbyBDTlBKIG5hIGJhcnJhIGRlIHBlc3F1aXNhLlxuKiAqKlBhc3NvIDQ6KiogQSBwbGF0YWZvcm1hIGV4aWJpcsOhIHVtIHJlbGF0w7NyaW8gY29tIGluZm9ybWHDp8O1ZXMgZGEgZW1wcmVzYSwgaW5jbHVpbmRvIG5vbWUgZSBlbmRlcmXDp28uIFxuXG4qKk9ic2VydmHDp8O1ZXM6KipcblxuKiBBbGd1bWFzIG9ww6fDtWVzIHBvZGVtIGV4aWdpciBjYWRhc3RybyBvdSBwYWdhbWVudG8gZGUgdGF4YXMuXG4qIEEgcXVhbnRpZGFkZSBkZSBpbmZvcm1hw6fDtWVzIGRpc3BvbsOtdmVpcyBwb2RlIHZhcmlhciBkZXBlbmRlbmRvIGRhIHBsYXRhZm9ybWEgdXRpbGl6YWRhLlxuKiBBbyB1dGlsaXphciBBUElzLCDDqSBuZWNlc3PDoXJpbyB0ZXIgY29uaGVjaW1lbnRvcyBkZSBwcm9ncmFtYcOnw6NvIHBhcmEgaW50ZWdyYXIgYSBBUEkgYW8gc2V1IHNpc3RlbWEuXG4qIFNlbXByZSB2ZXJpZmlxdWUgYSBhdXRlbnRpY2lkYWRlIGRhcyBpbmZvcm1hw6fDtWVzIG9idGlkYXMgZSBhIGZvbnRlIGRhIGNvbnN1bHRhLiBcblxuXG4qKkVzcGVybyBxdWUgZXN0YXMgaW5mb3JtYcOnw7VlcyBzZWphbSDDunRlaXMhKioifSx7InJvbGUiOiJ1c2VyIiwicGFydHMiOiJzZSBldSB0ZSBwYXNzYXIgdW1hIGxpc3RhIGNvbSBudW1lcm9zIGRlIGNucGpzIHZvY2UgY29uc2VndWlyaWEgbWUgcmV0b3JuYXIgYXMgaW5mb3JtYcOnw7VlcyBkZSByYXrDo28gc29jaWFsIGUgZW5kZXJlw6dvIGRhIGVtcHJlc2EgY29ycmVzcG9uZGUgZW0gdW1hIHRhYmVsYT8ifSx7InJvbGUiOiJtb2RlbCIsInBhcnRzIjoiQ29tbyB1bSBtb2RlbG8gZGUgbGluZ3VhZ2VtLCBldSBuw6NvIGNvbnNpZ28gYWNlc3NhciBBUElzIGV4dGVybmFzIG91IGJhbmNvcyBkZSBkYWRvcyBlbSB0ZW1wbyByZWFsIHBhcmEgcmVhbGl6YXIgY29uc3VsdGFzIGRlIENOUEouIFBvcnRhbnRvLCBuw6NvIHBvc3NvIGdlcmFyIHVtYSB0YWJlbGEgY29tIGluZm9ybWHDp8O1ZXMgZGUgcmF6w6NvIHNvY2lhbCBlIGVuZGVyZcOnbyBhIHBhcnRpciBkZSB1bWEgbGlzdGEgZGUgQ05QSnMgZGlyZXRhbWVudGUuXG5cbk5vIGVudGFudG8sIHBvc3NvIHRlIGFqdWRhciBkZSBhbGd1bWFzIG1hbmVpcmFzOlxuXG4xLiAqKkluc3RydcOnw7VlcyBEZXRhbGhhZGFzOioqIFBvc3NvIGZvcm5lY2VyIGluc3RydcOnw7VlcyBwYXNzbyBhIHBhc3NvIHNvYnJlIGNvbW8gdm9jw6ogcG9kZSB1c2FyIHVtYSBkYXMgb3DDp8O1ZXMgbWVuY2lvbmFkYXMgYW50ZXJpb3JtZW50ZSAoUmVjZWl0YSBGZWRlcmFsLCBTaW50ZWdyYSwgQVBJcywgcGxhdGFmb3JtYXMgb25saW5lKSBwYXJhIGNvbnN1bHRhciBjYWRhIENOUEogZGEgc3VhIGxpc3RhIGUgb2J0ZXIgYXMgaW5mb3JtYcOnw7VlcyBkZXNlamFkYXMuIFxuMi4gKipDw7NkaWdvIGRlIEV4ZW1wbG86KiogU2Ugdm9jw6ogb3B0YXIgcG9yIHVzYXIgdW1hIEFQSSwgcG9zc28gdGUgYWp1ZGFyIGNvbSBleGVtcGxvcyBkZSBjw7NkaWdvIChQeXRob24sIEphdmFTY3JpcHQsIGV0Yy4pIHBhcmEgZGVtb25zdHJhciBjb21vIGZhemVyIGEgaW50ZWdyYcOnw6NvIGNvbSBhIEFQSSBlIHJlYWxpemFyIGFzIGNvbnN1bHRhcy5cbjMuICoqU3VnZXN0w7VlcyBkZSBGZXJyYW1lbnRhczoqKiBQb3NzbyBzdWdlcmlyIGZlcnJhbWVudGFzIGUgcGxhdGFmb3JtYXMgZXNwZWPDrWZpY2FzIHBhcmEgY29uc3VsdGEgZGUgQ05QSiwgbGV2YW5kbyBlbSBjb25zaWRlcmHDp8OjbyBzdWFzIG5lY2Vzc2lkYWRlcyBlIHByZWZlcsOqbmNpYXMuXG5cbioqUG9yIGZhdm9yLCBtZSBmb3JuZcOnYSBtYWlzIGluZm9ybWHDp8O1ZXMgc29icmUgY29tbyB2b2PDqiBnb3N0YXJpYSBkZSBwcm9jZWRlciBlIHF1YWwgbcOpdG9kbyBkZSBjb25zdWx0YSBwcmVmZXJlLCBwYXJhIHF1ZSBldSBwb3NzYSB0ZSBhdXhpbGlhciBkYSBtZWxob3IgZm9ybWEgcG9zc8OtdmVsLioqIn0seyJyb2xlIjoidXNlciIsInBhcnRzIjoib3DDp8OjbyAyIn0seyJyb2xlIjoibW9kZWwiLCJwYXJ0cyI6IiMjIE9ww6fDo28gMjogVXRpbGl6YW5kbyBBUElzIGRlIENvbnN1bHRhIGRlIENOUEpcblxuUGFyYSBlc3RhIG9ww6fDo28sIHByZWNpc2FyZW1vcyBkZTpcblxuKiAqKkxpbmd1YWdlbSBkZSBQcm9ncmFtYcOnw6NvOioqIFF1YWwgbGluZ3VhZ2VtIGRlIHByb2dyYW1hw6fDo28gdm9jw6ogcHJlZmVyZSB1c2FyPyBQeXRob24gZSBKYXZhU2NyaXB0IHPDo28gb3DDp8O1ZXMgcG9wdWxhcmVzIHBhcmEgdHJhYmFsaGFyIGNvbSBBUElzLlxuKiAqKkFQSSBkZSBDTlBKOioqICBFeGlzdGVtIGRpdmVyc2FzIEFQSXMgZGlzcG9uw612ZWlzLCBjb21vIGEgUmVjZWl0YVdTLCBLb25kdXRvLCBlIG91dHJhcy4gQ2FkYSB1bWEgdGVtIHNldXMgcHLDs3ByaW9zIHBsYW5vcyBlIHByZcOnb3MuIEVzY29saGEgdW1hIHF1ZSBzZSBhZGFwdGUgw6BzIHN1YXMgbmVjZXNzaWRhZGVzLiBcblxuKipFeGVtcGxvIGNvbSBQeXRob24gZSBSZWNlaXRhV1M6KipcblxuYGBgcHl0aG9uXG4jIEltcG9ydGFyIGJpYmxpb3RlY2FzXG5pbXBvcnQgcmVxdWVzdHNcblxuIyBEZWZpbmlyIGEgY2hhdmUgZGUgQVBJIChzdWJzdGl0dWEgcGVsYSBzdWEgY2hhdmUpXG5hcGlfa2V5ID0gXCJTVUFfQ0hBVkVfREVfQVBJXCJcblxuIyBGdW7Dp8OjbyBwYXJhIGNvbnN1bHRhciBDTlBKXG5kZWYgY29uc3VsdGFyX2NucGooY25waik6XG4gICAgdXJsID0gZlwiaHR0cHM6Ly93d3cucmVjZWl0YXdzLmNvbS5ici92MS9jbnBqL3tjbnBqfVwiXG4gICAgaGVhZGVycyA9IHtcIkF1dGhvcml6YXRpb25cIjogZlwiQmVhcmVyIHthcGlfa2V5fVwifVxuICAgIHJlc3BvbnNlID0gcmVxdWVzdHMuZ2V0KHVybCwgaGVhZGVycz1oZWFkZXJzKVxuXG4gICAgaWYgcmVzcG9uc2Uuc3RhdHVzX2NvZGUgPT0gMjAwOlxuICAgICAgICBkYWRvcyA9IHJlc3BvbnNlLmpzb24oKVxuICAgICAgICByYXphb19zb2NpYWwgPSBkYWRvc1snbm9tZSddXG4gICAgICAgIGxvZ3JhZG91cm8gPSBkYWRvc1snbG9ncmFkb3VybyddXG4gICAgICAgIG51bWVybyA9IGRhZG9zWydudW1lcm8nXVxuICAgICAgICBjb21wbGVtZW50byA9IGRhZG9zWydjb21wbGVtZW50byddXG4gICAgICAgIGJhaXJybyA9IGRhZG9zWydiYWlycm8nXVxuICAgICAgICBtdW5pY2lwaW8gPSBkYWRvc1snbXVuaWNpcGlvJ11cbiAgICAgICAgdWYgPSBkYWRvc1sndWYnXVxuICAgICAgICBjZXAgPSBkYWRvc1snY2VwJ11cbiAgICAgICAgXG4gICAgICAgIGVuZGVyZWNvID0gZlwie2xvZ3JhZG91cm99LCB7bnVtZXJvfSAtIHtjb21wbGVtZW50b30sIHtiYWlycm99LCB7bXVuaWNpcGlvfS97dWZ9LCB7Y2VwfVwiXG4gICAgICAgIHJldHVybiByYXphb19zb2NpYWwsIGVuZGVyZWNvXG4gICAgZWxzZTpcbiAgICAgICAgcmV0dXJuIE5vbmUsIE5vbmVcblxuIyBFeGVtcGxvIGRlIHVzb1xuY25waiA9IFwiMDAwMDAwMDAwMDAwMDBcIiAgIyBTdWJzdGl0dWEgcGVsbyBDTlBKIHF1ZSBkZXNlamEgY29uc3VsdGFyXG5yYXphb19zb2NpYWwsIGVuZGVyZWNvID0gY29uc3VsdGFyX2NucGooY25wailcblxuaWYgcmF6YW9fc29jaWFsIGFuZCBlbmRlcmVjbzpcbiAgICBwcmludChmXCJSYXrDo28gU29jaWFsOiB7cmF6YW9fc29jaWFsfVwiKVxuICAgIHByaW50KGZcIkVuZGVyZcOnbzoge2VuZGVyZWNvfVwiKVxuZWxzZTpcbiAgICBwcmludChcIkNOUEogaW52w6FsaWRvIG91IGVycm8gbmEgY29uc3VsdGEuXCIpXG5gYGBcblxuKipFeHBsaWNhw6fDo28gZG8gY8OzZGlnbzoqKlxuXG4xLiBJbXBvcnRhbW9zIGEgYmlibGlvdGVjYSBgcmVxdWVzdHNgIHBhcmEgZmF6ZXIgcmVxdWlzacOnw7VlcyBIVFRQIMOgIEFQSS5cbjIuIERlZmluaW1vcyBhIGBhcGlfa2V5YCBjb20gYSBzdWEgY2hhdmUgZGUgYWNlc3NvIMOgIEFQSSBkYSBSZWNlaXRhV1MuXG4zLiBBIGZ1bsOnw6NvIGBjb25zdWx0YXJfY25waihjbnBqKWAgcmVjZWJlIHVtIG7Dum1lcm8gZGUgQ05QSiBjb21vIGVudHJhZGEuXG40LiBGYXplbW9zIHVtYSByZXF1aXNpw6fDo28gR0VUIMOgIFVSTCBkYSBBUEksIHBhc3NhbmRvIG8gQ05QSiBlIGEgY2hhdmUgZGUgYWNlc3NvIG5vIGhlYWRlci4gXG41LiBTZSBhIHJlc3Bvc3RhIGZvciBiZW0tc3VjZWRpZGEgKHN0YXR1cyBjb2RlIDIwMCksIGV4dHJhw61tb3MgYSByYXrDo28gc29jaWFsIGUgb3MgZGFkb3MgZGUgZW5kZXJlw6dvIGRhIHJlc3Bvc3RhIEpTT04uIFxuNi4gTW9udGFtb3MgYSBzdHJpbmcgZG8gZW5kZXJlw6dvIGNvbXBsZXRvLlxuNy4gUmV0b3JuYW1vcyBhIHJhesOjbyBzb2NpYWwgZSBvIGVuZGVyZcOnby4gXG44LiBObyBleGVtcGxvIGRlIHVzbywgY2hhbWFtb3MgYSBmdW7Dp8OjbyBgY29uc3VsdGFyX2NucGpgIGNvbSB1bSBDTlBKIGUgZXhpYmltb3Mgb3MgcmVzdWx0YWRvcy4gXG5cbioqQWRhcHRhw6fDtWVzOioqXG5cbiogVm9jw6ogcHJlY2lzYXLDoSBzdWJzdGl0dWlyIGBcIlNVQV9DSEFWRV9ERV9BUElcImAgcGVsYSBzdWEgY2hhdmUgZGUgYWNlc3NvIGRhIEFQSSBlc2NvbGhpZGEuXG4qIFBvZGUgc2VyIG5lY2Vzc8OhcmlvIGFqdXN0YXIgbyBjw7NkaWdvIGRlcGVuZGVuZG8gZGEgZXN0cnV0dXJhIGRhIHJlc3Bvc3RhIEpTT04gZGEgQVBJIHF1ZSB2b2PDqiBlc2NvbGhlci5cbiogVm9jw6ogcG9kZSBtb2RpZmljYXIgbyBjw7NkaWdvIHBhcmEgc2FsdmFyIG9zIHJlc3VsdGFkb3MgZW0gdW0gYXJxdWl2bywgYmFuY28gZGUgZGFkb3MsIG91IGV4aWJpciBlbSB1bWEgdGFiZWxhLiBcblxuKipMZW1icmUtc2UgZGUgY29uc3VsdGFyIGEgZG9jdW1lbnRhw6fDo28gZGEgQVBJIGVzY29saGlkYSBwYXJhIG1haXMgZGV0YWxoZXMgc29icmUgYXV0ZW50aWNhw6fDo28sIGVuZHBvaW50cywgbGltaXRlcyBkZSB1c28gZSBvdXRyYXMgaW5mb3JtYcOnw7Vlcy4qKiJ9XQ==' # @param {isTemplate: true}\n",
        "generation_config_b64 = 'eyJ0ZW1wZXJhdHVyZSI6MSwidG9wX3AiOjAuOTUsInRvcF9rIjowLCJtYXhfb3V0cHV0X3Rva2VucyI6ODE5Miwic3RvcF9zZXF1ZW5jZXMiOltdfQ==' # @param {isTemplate: true}\n",
        "safety_settings_b64 = 'W3siY2F0ZWdvcnkiOiJIQVJNX0NBVEVHT1JZX0hBUkFTU01FTlQiLCJ0aHJlc2hvbGQiOiJCTE9DS19NRURJVU1fQU5EX0FCT1ZFIn0seyJjYXRlZ29yeSI6IkhBUk1fQ0FURUdPUllfSEFURV9TUEVFQ0giLCJ0aHJlc2hvbGQiOiJCTE9DS19NRURJVU1fQU5EX0FCT1ZFIn0seyJjYXRlZ29yeSI6IkhBUk1fQ0FURUdPUllfU0VYVUFMTFlfRVhQTElDSVQiLCJ0aHJlc2hvbGQiOiJCTE9DS19NRURJVU1fQU5EX0FCT1ZFIn0seyJjYXRlZ29yeSI6IkhBUk1fQ0FURUdPUllfREFOR0VST1VTX0NPTlRFTlQiLCJ0aHJlc2hvbGQiOiJCTE9DS19NRURJVU1fQU5EX0FCT1ZFIn1d' # @param {isTemplate: true}\n",
        "user_input_b64 = '' # @param {isTemplate: true}\n",
        "\n",
        "contents = json.loads(base64.b64decode(contents_b64))\n",
        "generation_config = json.loads(base64.b64decode(generation_config_b64))\n",
        "safety_settings = json.loads(base64.b64decode(safety_settings_b64))\n",
        "user_input = base64.b64decode(user_input_b64).decode()\n",
        "stream = False"
      ]
    },
    {
      "cell_type": "code",
      "execution_count": 6,
      "metadata": {
        "id": "wBS8xNhN0x62",
        "colab": {
          "base_uri": "https://localhost:8080/"
        },
        "outputId": "97b5eea2-7e2f-4e9a-f673-363a74a8ee92"
      },
      "outputs": [
        {
          "output_type": "execute_result",
          "data": {
            "text/plain": [
              "[{'role': 'user',\n",
              "  'parts': 'formas de consultar numeros de CNPJs e retornar nome e endereço das empresas'},\n",
              " {'role': 'model',\n",
              "  'parts': '## Consultando CNPJs e Retornando Nome e Endereço:\\n\\nExistem diversas maneiras de consultar números de CNPJ e obter informações como nome e endereço das empresas. Aqui estão algumas opções, com um passo a passo para cada uma:\\n\\n**1. Receita Federal:**\\n\\n* **Passo 1:** Acesse o site da Receita Federal: https://www.gov.br/receitafederal/pt-br\\n* **Passo 2:** Navegue até a seção \"Serviços\" e selecione \"CNPJ\".\\n* **Passo 3:** Escolha a opção \"Consulta Quadro Societário e Situação Cadastral\".\\n* **Passo 4:** Digite o número do CNPJ que deseja consultar e clique em \"Consultar\".\\n* **Passo 5:** As informações da empresa, incluindo nome e endereço, serão exibidas na tela.\\n\\n**2. Sintegra (Sistema Integrado de Informações sobre Operações Interestaduais com Mercadorias e Serviços):**\\n\\n* **Passo 1:** Acesse o portal do Sintegra do seu estado. Cada estado possui um portal próprio.\\n* **Passo 2:** Localize a seção de \"Consulta de Empresas\" ou similar.\\n* **Passo 3:** Insira o número do CNPJ e realize a busca.\\n* **Passo 4:** O sistema exibirá informações cadastrais da empresa, incluindo nome e endereço.\\n\\n**3. APIs de Consulta de CNPJ:**\\n\\n* **Passo 1:** Escolha uma API de consulta de CNPJ, como a API da ReceitaWS ou da Konduto.\\n* **Passo 2:** Registre-se na plataforma e obtenha uma chave de acesso.\\n* **Passo 3:** Integre a API ao seu sistema ou aplicação.\\n* **Passo 4:** Utilize a chave de acesso para realizar consultas por CNPJ.\\n* **Passo 5:** A API retornará dados da empresa em formato JSON ou XML, incluindo nome e endereço. \\n\\n**4. Plataformas Online de Consulta de Empresas:**\\n\\n* **Passo 1:** Acesse uma plataforma de consulta de empresas, como a Econodata, Empresômetro ou similar.\\n* **Passo 2:** Crie uma conta ou utilize um acesso de teste, se disponível.\\n* **Passo 3:** Insira o número do CNPJ na barra de pesquisa.\\n* **Passo 4:** A plataforma exibirá um relatório com informações da empresa, incluindo nome e endereço. \\n\\n**Observações:**\\n\\n* Algumas opções podem exigir cadastro ou pagamento de taxas.\\n* A quantidade de informações disponíveis pode variar dependendo da plataforma utilizada.\\n* Ao utilizar APIs, é necessário ter conhecimentos de programação para integrar a API ao seu sistema.\\n* Sempre verifique a autenticidade das informações obtidas e a fonte da consulta. \\n\\n\\n**Espero que estas informações sejam úteis!**'},\n",
              " {'role': 'user',\n",
              "  'parts': 'se eu te passar uma lista com numeros de cnpjs voce conseguiria me retornar as informações de razão social e endereço da empresa corresponde em uma tabela?'},\n",
              " {'role': 'model',\n",
              "  'parts': 'Como um modelo de linguagem, eu não consigo acessar APIs externas ou bancos de dados em tempo real para realizar consultas de CNPJ. Portanto, não posso gerar uma tabela com informações de razão social e endereço a partir de uma lista de CNPJs diretamente.\\n\\nNo entanto, posso te ajudar de algumas maneiras:\\n\\n1. **Instruções Detalhadas:** Posso fornecer instruções passo a passo sobre como você pode usar uma das opções mencionadas anteriormente (Receita Federal, Sintegra, APIs, plataformas online) para consultar cada CNPJ da sua lista e obter as informações desejadas. \\n2. **Código de Exemplo:** Se você optar por usar uma API, posso te ajudar com exemplos de código (Python, JavaScript, etc.) para demonstrar como fazer a integração com a API e realizar as consultas.\\n3. **Sugestões de Ferramentas:** Posso sugerir ferramentas e plataformas específicas para consulta de CNPJ, levando em consideração suas necessidades e preferências.\\n\\n**Por favor, me forneça mais informações sobre como você gostaria de proceder e qual método de consulta prefere, para que eu possa te auxiliar da melhor forma possível.**'},\n",
              " {'role': 'user', 'parts': 'opção 2'},\n",
              " {'role': 'model',\n",
              "  'parts': '## Opção 2: Utilizando APIs de Consulta de CNPJ\\n\\nPara esta opção, precisaremos de:\\n\\n* **Linguagem de Programação:** Qual linguagem de programação você prefere usar? Python e JavaScript são opções populares para trabalhar com APIs.\\n* **API de CNPJ:**  Existem diversas APIs disponíveis, como a ReceitaWS, Konduto, e outras. Cada uma tem seus próprios planos e preços. Escolha uma que se adapte às suas necessidades. \\n\\n**Exemplo com Python e ReceitaWS:**\\n\\n```python\\n# Importar bibliotecas\\nimport requests\\n\\n# Definir a chave de API (substitua pela sua chave)\\napi_key = \"SUA_CHAVE_DE_API\"\\n\\n# Função para consultar CNPJ\\ndef consultar_cnpj(cnpj):\\n    url = f\"https://www.receitaws.com.br/v1/cnpj/{cnpj}\"\\n    headers = {\"Authorization\": f\"Bearer {api_key}\"}\\n    response = requests.get(url, headers=headers)\\n\\n    if response.status_code == 200:\\n        dados = response.json()\\n        razao_social = dados[\\'nome\\']\\n        logradouro = dados[\\'logradouro\\']\\n        numero = dados[\\'numero\\']\\n        complemento = dados[\\'complemento\\']\\n        bairro = dados[\\'bairro\\']\\n        municipio = dados[\\'municipio\\']\\n        uf = dados[\\'uf\\']\\n        cep = dados[\\'cep\\']\\n        \\n        endereco = f\"{logradouro}, {numero} - {complemento}, {bairro}, {municipio}/{uf}, {cep}\"\\n        return razao_social, endereco\\n    else:\\n        return None, None\\n\\n# Exemplo de uso\\ncnpj = \"00000000000000\"  # Substitua pelo CNPJ que deseja consultar\\nrazao_social, endereco = consultar_cnpj(cnpj)\\n\\nif razao_social and endereco:\\n    print(f\"Razão Social: {razao_social}\")\\n    print(f\"Endereço: {endereco}\")\\nelse:\\n    print(\"CNPJ inválido ou erro na consulta.\")\\n```\\n\\n**Explicação do código:**\\n\\n1. Importamos a biblioteca `requests` para fazer requisições HTTP à API.\\n2. Definimos a `api_key` com a sua chave de acesso à API da ReceitaWS.\\n3. A função `consultar_cnpj(cnpj)` recebe um número de CNPJ como entrada.\\n4. Fazemos uma requisição GET à URL da API, passando o CNPJ e a chave de acesso no header. \\n5. Se a resposta for bem-sucedida (status code 200), extraímos a razão social e os dados de endereço da resposta JSON. \\n6. Montamos a string do endereço completo.\\n7. Retornamos a razão social e o endereço. \\n8. No exemplo de uso, chamamos a função `consultar_cnpj` com um CNPJ e exibimos os resultados. \\n\\n**Adaptações:**\\n\\n* Você precisará substituir `\"SUA_CHAVE_DE_API\"` pela sua chave de acesso da API escolhida.\\n* Pode ser necessário ajustar o código dependendo da estrutura da resposta JSON da API que você escolher.\\n* Você pode modificar o código para salvar os resultados em um arquivo, banco de dados, ou exibir em uma tabela. \\n\\n**Lembre-se de consultar a documentação da API escolhida para mais detalhes sobre autenticação, endpoints, limites de uso e outras informações.**'}]"
            ]
          },
          "metadata": {},
          "execution_count": 6
        }
      ],
      "source": [
        "contents"
      ]
    },
    {
      "cell_type": "code",
      "execution_count": 7,
      "metadata": {
        "id": "1681593ef561",
        "colab": {
          "base_uri": "https://localhost:8080/"
        },
        "outputId": "5e169931-4826-4372-acf0-f3c3dc316428"
      },
      "outputs": [
        {
          "output_type": "execute_result",
          "data": {
            "text/plain": [
              "{'temperature': 1,\n",
              " 'top_p': 0.95,\n",
              " 'top_k': 0,\n",
              " 'max_output_tokens': 8192,\n",
              " 'stop_sequences': []}"
            ]
          },
          "metadata": {},
          "execution_count": 7
        }
      ],
      "source": [
        "generation_config"
      ]
    },
    {
      "cell_type": "code",
      "execution_count": 8,
      "metadata": {
        "id": "a2c31f8f1894",
        "colab": {
          "base_uri": "https://localhost:8080/"
        },
        "outputId": "43956592-ead2-40d5-ac45-7d09a27e4f9b"
      },
      "outputs": [
        {
          "output_type": "execute_result",
          "data": {
            "text/plain": [
              "[{'category': 'HARM_CATEGORY_HARASSMENT',\n",
              "  'threshold': 'BLOCK_MEDIUM_AND_ABOVE'},\n",
              " {'category': 'HARM_CATEGORY_HATE_SPEECH',\n",
              "  'threshold': 'BLOCK_MEDIUM_AND_ABOVE'},\n",
              " {'category': 'HARM_CATEGORY_SEXUALLY_EXPLICIT',\n",
              "  'threshold': 'BLOCK_MEDIUM_AND_ABOVE'},\n",
              " {'category': 'HARM_CATEGORY_DANGEROUS_CONTENT',\n",
              "  'threshold': 'BLOCK_MEDIUM_AND_ABOVE'}]"
            ]
          },
          "metadata": {},
          "execution_count": 8
        }
      ],
      "source": [
        "safety_settings"
      ]
    },
    {
      "cell_type": "code",
      "execution_count": 10,
      "metadata": {
        "id": "4d17bac9fefc"
      },
      "outputs": [],
      "source": [
        "user_input=\"qual seria a melhor opção para integrar em um RPA no automation anywhere?\""
      ]
    },
    {
      "cell_type": "markdown",
      "metadata": {
        "id": "E7zAD69vE92b"
      },
      "source": [
        "### Call the API"
      ]
    },
    {
      "cell_type": "code",
      "execution_count": 11,
      "metadata": {
        "id": "LB2LxPmAB95V"
      },
      "outputs": [],
      "source": [
        "# Call the model and print the response.\n",
        "gemini = genai.GenerativeModel(model_name=model)\n",
        "\n",
        "chat = gemini.start_chat(history=contents)\n",
        "\n",
        "response = chat.send_message(\n",
        "    user_input,\n",
        "    stream=stream)"
      ]
    },
    {
      "cell_type": "code",
      "execution_count": 12,
      "metadata": {
        "id": "Lm3RXwYuGtZK",
        "colab": {
          "base_uri": "https://localhost:8080/",
          "height": 1000
        },
        "outputId": "6b91e961-5a45-4a1b-b60e-a56ff9a13851"
      },
      "outputs": [
        {
          "output_type": "display_data",
          "data": {
            "text/plain": [
              "<IPython.core.display.Markdown object>"
            ],
            "text/markdown": "Para integrar a consulta de CNPJ em um RPA no Automation Anywhere, a melhor opção seria usar a **API de CNPJ da ReceitaWS**, juntamente com a ação **\"Web Service\"** do Automation Anywhere.\n\n**Vantagens da API da ReceitaWS para RPA:**\n\n* **Estruturada e Documentada:** A API da ReceitaWS é bem estruturada, com documentação completa e exemplos claros. Isso facilita a integração com o Automation Anywhere.\n* **Formato JSON:**  A API retorna os dados em formato JSON, que é fácil de analisar e manipular dentro do Automation Anywhere.\n* **Chave de API:** A autenticação via chave de API é segura e fácil de implementar no Automation Anywhere.\n\n**Passo a Passo para Integração com Automation Anywhere:**\n\n1. **Obter Chave de API:** Cadastre-se na ReceitaWS e obtenha sua chave de API.\n2. **Criar um Bot no Automation Anywhere:** Crie um novo bot para realizar a consulta de CNPJ.\n3. **Adicionar a Ação \"Web Service\":** Arraste a ação \"Web Service\" para o fluxo de trabalho do bot.\n4. **Configurar a Ação:**\n   - **Método:** GET\n   - **URL:** `https://www.receitaws.com.br/v1/cnpj/{cnpj}` (Substitua {cnpj} pelo número do CNPJ a ser consultado)\n   - **Headers:** Adicione um header com a chave de API:\n     - Chave: \"Authorization\"\n     - Valor: \"Bearer SUA_CHAVE_DE_API\"\n5. **Capturar a Resposta:** Utilize a variável de saída da ação \"Web Service\" para capturar a resposta da API em formato JSON.\n6. **Extrair Dados:** Utilize ações de string ou dicionário para extrair a razão social, endereço e outras informações relevantes da resposta JSON.\n7. **Utilizar os Dados:** Utilize os dados extraídos para alimentar outras ações do seu RPA, como gravar em um banco de dados, preencher planilhas, etc.\n\n**Exemplo de Bot (Simplificado):**\n\n```\nStart\n  // Obter CNPJ de alguma fonte (planilha, banco de dados, etc.)\n  String cnpj = Get CNPJ;\n\n  // Chamar a API da ReceitaWS\n  Web Service:\n    Method: GET\n    URL: https://www.receitaws.com.br/v1/cnpj/{cnpj}\n    Headers:\n      Authorization: Bearer SUA_CHAVE_DE_API\n    Output: responseJSON\n\n  // Extrair Razão Social\n  String razaoSocial = responseJSON[\"nome\"];\n\n  // Extrair Endereço\n  String endereco = responseJSON[\"logradouro\"] + \", \" + responseJSON[\"numero\"];\n\n  // Exibir os Dados (ou realizar outras ações)\n  Message Box:\n    Message: \"Razão Social: \" + razaoSocial + \"\\nEndereço: \" + endereco\nEnd\n```\n\n**Recomendações:**\n\n* Consulte a documentação da ação \"Web Service\" no Automation Anywhere para detalhes sobre configuração e uso.\n* Utilize blocos \"Try-Catch\" para lidar com erros na requisição à API.\n* Implemente lógica para lidar com CNPJs inválidos ou inexistentes na base da Receita Federal.\n\nCom a API da ReceitaWS e a ação \"Web Service\", você terá uma solução robusta e eficiente para consultar CNPJs dentro do seu RPA no Automation Anywhere. \n"
          },
          "metadata": {}
        }
      ],
      "source": [
        "display(Markdown(response.text))"
      ]
    },
    {
      "cell_type": "code",
      "execution_count": 13,
      "metadata": {
        "id": "JbKuUc3NGxYD",
        "colab": {
          "base_uri": "https://localhost:8080/"
        },
        "outputId": "2c2f2047-8d1a-4929-bcb3-767b44fa8dce"
      },
      "outputs": [
        {
          "output_type": "execute_result",
          "data": {
            "text/plain": []
          },
          "metadata": {},
          "execution_count": 13
        }
      ],
      "source": [
        "response.prompt_feedback"
      ]
    },
    {
      "cell_type": "code",
      "execution_count": 14,
      "metadata": {
        "id": "SLAaIq3kgwwJ",
        "colab": {
          "base_uri": "https://localhost:8080/"
        },
        "outputId": "b47386cb-d2fe-4aa4-e655-519c09aa9c92"
      },
      "outputs": [
        {
          "output_type": "execute_result",
          "data": {
            "text/plain": [
              "[content {\n",
              "  parts {\n",
              "    text: \"Para integrar a consulta de CNPJ em um RPA no Automation Anywhere, a melhor op\\303\\247\\303\\243o seria usar a **API de CNPJ da ReceitaWS**, juntamente com a a\\303\\247\\303\\243o **\\\"Web Service\\\"** do Automation Anywhere.\\n\\n**Vantagens da API da ReceitaWS para RPA:**\\n\\n* **Estruturada e Documentada:** A API da ReceitaWS \\303\\251 bem estruturada, com documenta\\303\\247\\303\\243o completa e exemplos claros. Isso facilita a integra\\303\\247\\303\\243o com o Automation Anywhere.\\n* **Formato JSON:**  A API retorna os dados em formato JSON, que \\303\\251 f\\303\\241cil de analisar e manipular dentro do Automation Anywhere.\\n* **Chave de API:** A autentica\\303\\247\\303\\243o via chave de API \\303\\251 segura e f\\303\\241cil de implementar no Automation Anywhere.\\n\\n**Passo a Passo para Integra\\303\\247\\303\\243o com Automation Anywhere:**\\n\\n1. **Obter Chave de API:** Cadastre-se na ReceitaWS e obtenha sua chave de API.\\n2. **Criar um Bot no Automation Anywhere:** Crie um novo bot para realizar a consulta de CNPJ.\\n3. **Adicionar a A\\303\\247\\303\\243o \\\"Web Service\\\":** Arraste a a\\303\\247\\303\\243o \\\"Web Service\\\" para o fluxo de trabalho do bot.\\n4. **Configurar a A\\303\\247\\303\\243o:**\\n   - **M\\303\\251todo:** GET\\n   - **URL:** `https://www.receitaws.com.br/v1/cnpj/{cnpj}` (Substitua {cnpj} pelo n\\303\\272mero do CNPJ a ser consultado)\\n   - **Headers:** Adicione um header com a chave de API:\\n     - Chave: \\\"Authorization\\\"\\n     - Valor: \\\"Bearer SUA_CHAVE_DE_API\\\"\\n5. **Capturar a Resposta:** Utilize a vari\\303\\241vel de sa\\303\\255da da a\\303\\247\\303\\243o \\\"Web Service\\\" para capturar a resposta da API em formato JSON.\\n6. **Extrair Dados:** Utilize a\\303\\247\\303\\265es de string ou dicion\\303\\241rio para extrair a raz\\303\\243o social, endere\\303\\247o e outras informa\\303\\247\\303\\265es relevantes da resposta JSON.\\n7. **Utilizar os Dados:** Utilize os dados extra\\303\\255dos para alimentar outras a\\303\\247\\303\\265es do seu RPA, como gravar em um banco de dados, preencher planilhas, etc.\\n\\n**Exemplo de Bot (Simplificado):**\\n\\n```\\nStart\\n  // Obter CNPJ de alguma fonte (planilha, banco de dados, etc.)\\n  String cnpj = Get CNPJ;\\n\\n  // Chamar a API da ReceitaWS\\n  Web Service:\\n    Method: GET\\n    URL: https://www.receitaws.com.br/v1/cnpj/{cnpj}\\n    Headers:\\n      Authorization: Bearer SUA_CHAVE_DE_API\\n    Output: responseJSON\\n\\n  // Extrair Raz\\303\\243o Social\\n  String razaoSocial = responseJSON[\\\"nome\\\"];\\n\\n  // Extrair Endere\\303\\247o\\n  String endereco = responseJSON[\\\"logradouro\\\"] + \\\", \\\" + responseJSON[\\\"numero\\\"];\\n\\n  // Exibir os Dados (ou realizar outras a\\303\\247\\303\\265es)\\n  Message Box:\\n    Message: \\\"Raz\\303\\243o Social: \\\" + razaoSocial + \\\"\\\\nEndere\\303\\247o: \\\" + endereco\\nEnd\\n```\\n\\n**Recomenda\\303\\247\\303\\265es:**\\n\\n* Consulte a documenta\\303\\247\\303\\243o da a\\303\\247\\303\\243o \\\"Web Service\\\" no Automation Anywhere para detalhes sobre configura\\303\\247\\303\\243o e uso.\\n* Utilize blocos \\\"Try-Catch\\\" para lidar com erros na requisi\\303\\247\\303\\243o \\303\\240 API.\\n* Implemente l\\303\\263gica para lidar com CNPJs inv\\303\\241lidos ou inexistentes na base da Receita Federal.\\n\\nCom a API da ReceitaWS e a a\\303\\247\\303\\243o \\\"Web Service\\\", voc\\303\\252 ter\\303\\241 uma solu\\303\\247\\303\\243o robusta e eficiente para consultar CNPJs dentro do seu RPA no Automation Anywhere. \\n\"\n",
              "  }\n",
              "  role: \"model\"\n",
              "}\n",
              "finish_reason: STOP\n",
              "index: 0\n",
              "safety_ratings {\n",
              "  category: HARM_CATEGORY_SEXUALLY_EXPLICIT\n",
              "  probability: NEGLIGIBLE\n",
              "}\n",
              "safety_ratings {\n",
              "  category: HARM_CATEGORY_HATE_SPEECH\n",
              "  probability: NEGLIGIBLE\n",
              "}\n",
              "safety_ratings {\n",
              "  category: HARM_CATEGORY_HARASSMENT\n",
              "  probability: NEGLIGIBLE\n",
              "}\n",
              "safety_ratings {\n",
              "  category: HARM_CATEGORY_DANGEROUS_CONTENT\n",
              "  probability: NEGLIGIBLE\n",
              "}\n",
              "]"
            ]
          },
          "metadata": {},
          "execution_count": 14
        }
      ],
      "source": [
        "response.candidates"
      ]
    }
  ],
  "metadata": {
    "colab": {
      "collapsed_sections": [
        "Tce3stUlHN0L"
      ],
      "name": "aistudio_gemini_prompt_chat_b64.ipynb",
      "provenance": [],
      "include_colab_link": true
    },
    "kernelspec": {
      "display_name": "Python 3",
      "name": "python3"
    }
  },
  "nbformat": 4,
  "nbformat_minor": 0
}